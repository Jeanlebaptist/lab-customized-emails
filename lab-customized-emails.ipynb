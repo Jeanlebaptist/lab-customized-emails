{
 "cells": [
  {
   "cell_type": "markdown",
   "metadata": {},
   "source": [
    "# Customized emails\n",
    "\n",
    "In this lesson, you will generate customer service emails that are tailored to each customer's review.\n",
    "\n",
    "## Setup"
   ]
  },
  {
   "cell_type": "code",
   "execution_count": 2,
   "metadata": {
    "tags": []
   },
   "outputs": [],
   "source": [
    "from openai import OpenAI\n",
    "import os\n",
    "\n",
    "from dotenv import load_dotenv, find_dotenv\n",
    "_ = load_dotenv(find_dotenv()) # read local .env file\n",
    "\n",
    "OPENAI_API_KEY  = os.getenv('OPENAI_API_KEY')"
   ]
  },
  {
   "cell_type": "code",
   "execution_count": 3,
   "metadata": {
    "tags": []
   },
   "outputs": [],
   "source": [
    "client = OpenAI(\n",
    "    # This is the default and can be omitted\n",
    "    api_key=OPENAI_API_KEY,\n",
    ")\n",
    "\n",
    "def get_completion(prompt, model=\"gpt-3.5-turbo\", temperature=0): \n",
    "    messages = [{\"role\": \"user\", \"content\": prompt}]\n",
    "    response = client.chat.completions.create(\n",
    "        model=model,\n",
    "        messages=messages,\n",
    "        temperature=temperature, \n",
    "    )\n",
    "    return response.choices[0].message.content"
   ]
  },
  {
   "cell_type": "markdown",
   "metadata": {},
   "source": [
    "## Customize the automated reply to a customer email"
   ]
  },
  {
   "cell_type": "code",
   "execution_count": 6,
   "metadata": {
    "tags": []
   },
   "outputs": [
    {
     "name": "stderr",
     "output_type": "stream",
     "text": [
      "<>:37: SyntaxWarning: invalid escape sequence '\\ '\n",
      "<>:37: SyntaxWarning: invalid escape sequence '\\ '\n",
      "C:\\Users\\User\\AppData\\Local\\Temp\\ipykernel_19832\\2049866193.py:37: SyntaxWarning: invalid escape sequence '\\ '\n",
      "  \"\"\"\n"
     ]
    }
   ],
   "source": [
    "# given the sentiment from the lesson on \"inferring\",\n",
    "# and the original customer message, customize the email\n",
    "sentiment = \"negative\"\n",
    "\n",
    "# review for a blender\n",
    "review = f\"\"\"\n",
    "So, they still had the 17 piece system on seasonal \\\n",
    "sale for around $49 in the month of November, about \\\n",
    "half off, but for some reason (call it price gouging) \\\n",
    "around the second week of December the prices all went \\\n",
    "up to about anywhere from between $70-$89 for the same \\\n",
    "system. And the 11 piece system went up around $10 or \\\n",
    "so in price also from the earlier sale price of $29. \\\n",
    "So it looks okay, but if you look at the base, the part \\\n",
    "where the blade locks into place doesn’t look as good \\\n",
    "as in previous editions from a few years ago, but I \\\n",
    "plan to be very gentle with it (example, I crush \\\n",
    "very hard items like beans, ice, rice, etc. in the \\ \n",
    "blender first then pulverize them in the serving size \\\n",
    "I want in the blender then switch to the whipping \\\n",
    "blade for a finer flour, and use the cross cutting blade \\\n",
    "first when making smoothies, then use the flat blade \\\n",
    "if I need them finer/less pulpy). Special tip when making \\\n",
    "smoothies, finely cut and freeze the fruits and \\\n",
    "vegetables (if using spinach-lightly stew soften the \\ \n",
    "spinach then freeze until ready for use-and if making \\\n",
    "sorbet, use a small to medium sized food processor) \\ \n",
    "that you plan to use that way you can avoid adding so \\\n",
    "much ice if at all-when making your smoothie. \\\n",
    "After about a year, the motor was making a funny noise. \\\n",
    "I called customer service but the warranty expired \\\n",
    "already, so I had to buy another one. FYI: The overall \\\n",
    "quality has gone done in these types of products, so \\\n",
    "they are kind of counting on brand recognition and \\\n",
    "consumer loyalty to maintain sales. Got it in about \\\n",
    "two days.\n",
    "\"\"\""
   ]
  },
  {
   "cell_type": "code",
   "execution_count": 14,
   "metadata": {
    "tags": []
   },
   "outputs": [
    {
     "name": "stdout",
     "output_type": "stream",
     "text": [
      "Dear Valued Customer,\n",
      "\n",
      "Thank you for taking the time to share your detailed feedback with us. We are sorry to hear about your experience with the pricing changes and the decrease in quality of the product. We apologize for any inconvenience this may have caused you.\n",
      "\n",
      "If you have any further concerns or would like to discuss this matter further, please feel free to reach out to our customer service team for assistance.\n",
      "\n",
      "Thank you for your loyalty and for choosing our products. We appreciate your feedback as it helps us improve our products and services.\n",
      "\n",
      "AI customer agent\n"
     ]
    }
   ],
   "source": [
    "prompt = f\"\"\"\n",
    "You are a customer service AI assistant.\n",
    "Your task is to send an email reply to a valued customer.\n",
    "Given the customer email delimited by ```, \\\n",
    "Generate a reply to thank the customer for their review.\n",
    "If the sentiment is positive or neutral, thank them for \\\n",
    "their review.\n",
    "If the sentiment is negative, apologize and suggest that \\\n",
    "they can reach out to customer service. \n",
    "Make sure to use specific details from the review.\n",
    "Write in a concise and professional tone.\n",
    "Sign the email as `AI customer agent`.\n",
    "Customer review: ```{review}```\n",
    "Review sentiment: {sentiment}\n",
    "\"\"\"\n",
    "response = get_completion(prompt)\n",
    "print(response)"
   ]
  },
  {
   "cell_type": "code",
   "execution_count": 16,
   "metadata": {},
   "outputs": [
    {
     "name": "stdout",
     "output_type": "stream",
     "text": [
      "=== Deterministic Reply (temp=0) ===\n",
      "\n",
      "Dear valued customer,\n",
      "\n",
      "Thank you for taking the time to share your feedback with us. We are sorry to hear about your experience with the price changes and the quality of the product. We apologize for any inconvenience this may have caused you.\n",
      "\n",
      "If you have any further concerns or would like to discuss this matter further, please feel free to reach out to our customer service team. They will be more than happy to assist you.\n",
      "\n",
      "We appreciate your loyalty and feedback as it helps us improve our products and services.\n",
      "\n",
      "AI customer agent\n",
      "\n",
      "\n",
      "=== More Creative Reply (temp=0.8) ===\n",
      "\n",
      "Subject: Apology and Resolution for Your Recent Experience\n",
      "\n",
      "Dear Valued Customer,\n",
      "\n",
      "Thank you for taking the time to share your detailed feedback with us. We are sorry to hear about your experience with the pricing fluctuations and the quality of our product. We apologize for any inconvenience this may have caused.\n",
      "\n",
      "We take customer feedback seriously and strive to provide the best possible products and service. If you have any further concerns or would like to discuss this matter further, please do not hesitate to reach out to our customer service team for assistance.\n",
      "\n",
      "We appreciate your loyalty and feedback as it helps us to improve our products and services for all our customers. Thank you for your understanding.\n",
      "\n",
      "Best regards,\n",
      "\n",
      "AI customer agent\n"
     ]
    }
   ],
   "source": [
    "# Run twice with different temperatures\n",
    "reply_deterministic = get_completion(prompt, temperature=0)\n",
    "reply_creative = get_completion(prompt, temperature=0.8)\n",
    "\n",
    "print(\"=== Deterministic Reply (temp=0) ===\\n\")\n",
    "print(reply_deterministic)\n",
    "\n",
    "print(\"\\n\\n=== More Creative Reply (temp=0.8) ===\\n\")\n",
    "print(reply_creative)"
   ]
  },
  {
   "cell_type": "markdown",
   "metadata": {},
   "source": [
    "## Change temperature to get a different reply"
   ]
  },
  {
   "cell_type": "code",
   "execution_count": 17,
   "metadata": {
    "tags": []
   },
   "outputs": [],
   "source": [
    "#from PIL import Image\n",
    "#im = Image.open(\"../img/Temperature.png\")\n",
    "#display(im)"
   ]
  },
  {
   "cell_type": "code",
   "execution_count": 18,
   "metadata": {
    "tags": []
   },
   "outputs": [
    {
     "name": "stdout",
     "output_type": "stream",
     "text": [
      "Dear valued customer,\n",
      "\n",
      "Thank you for taking the time to share your feedback with us. We are truly sorry to hear about the issues you experienced with the pricing and quality of the product. We apologize for any inconvenience this may have caused you.\n",
      "\n",
      "If you have any further concerns or would like to discuss this matter further, please do not hesitate to reach out to our customer service team. We are here to assist you in any way we can.\n",
      "\n",
      "Thank you again for sharing your thoughts with us.\n",
      "\n",
      "AI customer agent\n"
     ]
    }
   ],
   "source": [
    "prompt = f\"\"\"\n",
    "You are a customer service AI assistant.\n",
    "Your task is to send an email reply to a valued customer.\n",
    "Given the customer email delimited by ```, \\\n",
    "Generate a reply to thank the customer for their review.\n",
    "If the sentiment is positive or neutral, thank them for \\\n",
    "their review.\n",
    "If the sentiment is negative, apologize and suggest that \\\n",
    "they can reach out to customer service. \n",
    "Make sure to use specific details from the review.\n",
    "Write in a concise and professional tone.\n",
    "Sign the email as `AI customer agent`.\n",
    "Customer review: ```{review}```\n",
    "Review sentiment: {sentiment}\n",
    "\"\"\"\n",
    "response = get_completion(prompt, temperature=0.7)\n",
    "print(response)"
   ]
  },
  {
   "cell_type": "code",
   "execution_count": 19,
   "metadata": {},
   "outputs": [
    {
     "data": {
      "image/png": "[encoded data removed]",
      "text/plain": [
       "<Figure size 600x400 with 1 Axes>"
      ]
     },
     "metadata": {},
     "output_type": "display_data"
    }
   ],
   "source": [
    "import matplotlib.pyplot as plt\n",
    "import numpy as np\n",
    "\n",
    "temps = [0.0, 0.2, 0.5, 0.7, 1.0]\n",
    "randomness = [0.0, 0.1, 0.4, 0.6, 1.0]\n",
    "\n",
    "plt.figure(figsize=(6,4))\n",
    "plt.plot(temps, randomness, marker=\"o\")\n",
    "plt.title(\"Effect of Temperature on Randomness\")\n",
    "plt.xlabel(\"Temperature\")\n",
    "plt.ylabel(\"Randomness / Creativity\")\n",
    "plt.grid(True)\n",
    "plt.show()\n"
   ]
  },
  {
   "cell_type": "markdown",
   "metadata": {},
   "source": [
    "# Exercise\n",
    " - Complete the prompts similar to what we did in class. \n",
    "     - Try at least 3 versions\n",
    "     - Be creative\n",
    " - Write a one page report summarizing your findings.\n",
    "     - Were there variations that didn't work well? i.e., where GPT either hallucinated or wrong\n",
    " - What did you learn?"
   ]
  },
  {
   "cell_type": "code",
   "execution_count": 26,
   "metadata": {},
   "outputs": [
    {
     "name": "stdout",
     "output_type": "stream",
     "text": [
      "=== Version 1 (Concise & Professional) ===\n",
      "\n",
      "We apologize for your experience with the pricing changes and the decrease in product quality. If you have any further concerns, please contact our support team for assistance. Thank you for sharing your feedback. AI customer agent\n"
     ]
    }
   ],
   "source": [
    "# Prompt Version 1 – Concise Professional\n",
    "# V1 — Concise & Professional\n",
    "prompt_v1 = f\"\"\"\n",
    "You are a customer service AI assistant.\n",
    "Reply politely to the customer review below.\n",
    "- If positive or neutral: thank them.\n",
    "- If negative: apologize and suggest contacting support.\n",
    "Keep it short and professional (<= 130 words).\n",
    "Sign off as \"AI customer agent\".\n",
    "\n",
    "Customer review:\n",
    "```{review}```\n",
    "\n",
    "Review sentiment: {sentiment}\n",
    "\n",
    "\"\"\"\n",
    "print(\"=== Version 1 (Concise & Professional) ===\\n\")\n",
    "print(get_completion(prompt_v1, temperature=0.2))\n"
   ]
  },
  {
   "cell_type": "code",
   "execution_count": 28,
   "metadata": {},
   "outputs": [
    {
     "name": "stdout",
     "output_type": "stream",
     "text": [
      "\n",
      "\n",
      "=== Version 2 (Friendly & Empathetic) ===\n",
      "\n",
      "Dear valued customer,\n",
      "\n",
      "I'm truly sorry to hear about your experience with the pricing changes and the quality of the product. We strive to provide fair pricing and high-quality products, and I apologize for any disappointment caused.\n",
      "\n",
      "I would like to offer you a refund for the price difference and a discount on your next purchase as a gesture of goodwill. Additionally, I will escalate your feedback about the product quality to our product development team for further review.\n",
      "\n",
      "Please feel free to reach out if you have any further concerns or questions. Your satisfaction is our top priority.\n",
      "\n",
      "Warm regards,\n",
      "AI customer agent\n"
     ]
    }
   ],
   "source": [
    "# Prompt Version 2 – Friendly & Empathetic\n",
    "# V2 — Friendly & Empathetic (a bit warmer)\n",
    "prompt_v2 = f\"\"\"\n",
    "Act as a warm and empathetic support representative.\n",
    "Write a reply that:\n",
    "- Feels personal and caring, references specific details from the review\n",
    "- If negative: apologize sincerely and offer 1–2 concrete next steps\n",
    "- If positive: thank them and invite further questions\n",
    "Limit to 150 words.\n",
    "Sign as AI customer agent.\n",
    "\n",
    "Customer review:\n",
    "```{review}```\n",
    "\n",
    "Review sentiment: {sentiment}\n",
    "\"\"\"\n",
    "\n",
    "print(\"\\n\\n=== Version 2 (Friendly & Empathetic) ===\\n\")\n",
    "print(get_completion(prompt_v2, temperature=0.5))"
   ]
  },
  {
   "cell_type": "code",
   "execution_count": 29,
   "metadata": {},
   "outputs": [
    {
     "name": "stdout",
     "output_type": "stream",
     "text": [
      "\n",
      "\n",
      "=== Version 3 (Structured JSON) ===\n",
      "\n",
      "{\n",
      "    \"subject\": \"Concerns about price increase and product quality\",\n",
      "    \"body\": \"Dear Customer, Thank you for sharing your feedback with us. We apologize for any inconvenience you experienced with the pricing and product quality. We will take your concerns into consideration for future improvements. If you have any further questions or need assistance, please feel free to contact us. AI customer agent\"\n",
      "}\n"
     ]
    }
   ],
   "source": [
    "# Prompt Version 3 – Structured JSON Output\n",
    "# V3 — Structured (request JSON output)\n",
    "prompt_v3 = f\"\"\"\n",
    "You are a customer support bot.\n",
    "Return ONLY a JSON object with fields \"subject\" and \"body\".\n",
    "- \"subject\": under 70 characters, specific to the review\n",
    "- \"body\": polite, professional email that ends with 'AI customer agent'\n",
    "No extra commentary or markdown—JSON only.\n",
    "\n",
    "Customer review:\n",
    "```{review}```\n",
    "\n",
    "Review sentiment: {sentiment}\n",
    "\"\"\"\n",
    "\n",
    "print(\"\\n\\n=== Version 3 (Structured JSON) ===\\n\")\n",
    "print(get_completion(prompt_v3, temperature=0.2))"
   ]
  },
  {
   "cell_type": "markdown",
   "metadata": {},
   "source": [
    "One-Page Lab Report\n",
    "\n",
    "In this lab, I experimented with generating customized customer service emails from customer reviews using GPT models. The goal was to test how prompt design and temperature influence the tone, structure, and reliability of the replies.\n",
    "\n",
    "I created three versions of prompts:\n",
    "\n",
    "Concise Professional Prompt – This produced stable, short emails with a professional tone. It worked well for negative reviews, consistently including an apology and a suggestion to contact customer service.\n",
    "\n",
    "Friendly & Empathetic Prompt – This version produced warmer, more human-sounding replies. While more engaging, it sometimes added unnecessary details or marketing-style flourishes that were not in the review. This showed how prompts encouraging creativity can lead to “hallucination.”\n",
    "\n",
    "Structured JSON Output Prompt – This forced the model to output replies in a machine-readable format. It was useful for automation, although formatting occasionally broke unless I enforced JSON output strictly through the API.\n",
    "\n",
    "From these experiments, I learned three key lessons. First, temperature settings matter: a low temperature (0–0.3) kept outputs consistent, while higher values (0.7–0.9) gave more variety but also more risk of off-topic content. Second, prompt phrasing directly affects tone and style; small changes in wording can make replies formal, friendly, or overly creative. Third, structured prompts improve reliability, especially when results must be integrated into automated pipelines.\n",
    "\n",
    "Overall, this lab demonstrated the importance of prompt engineering and parameter tuning in creating trustworthy AI assistants for customer service. For production use, I would recommend concise prompts, low temperature, and structured outputs to balance professionalism, accuracy, and automation-readiness."
   ]
  }
 ],
 "metadata": {
  "kernelspec": {
   "display_name": "base",
   "language": "python",
   "name": "python3"
  },
  "language_info": {
   "codemirror_mode": {
    "name": "ipython",
    "version": 3
   },
   "file_extension": ".py",
   "mimetype": "text/x-python",
   "name": "python",
   "nbconvert_exporter": "python",
   "pygments_lexer": "ipython3",
   "version": "3.12.7"
  }
 },
 "nbformat": 4,
 "nbformat_minor": 4
}
